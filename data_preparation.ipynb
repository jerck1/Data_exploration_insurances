{
 "cells": [
  {
   "cell_type": "markdown",
   "id": "ad5f1faf",
   "metadata": {},
   "source": [
    "# <center> 3) Preparación de los Datos <center>"
   ]
  },
  {
   "cell_type": "markdown",
   "id": "6993c24f",
   "metadata": {},
   "source": [
    "## Selección de Datos"
   ]
  },
  {
   "cell_type": "code",
   "execution_count": 5,
   "id": "680f540b",
   "metadata": {},
   "outputs": [
    {
     "name": "stdout",
     "output_type": "stream",
     "text": [
      "Unexpected exception formatting exception. Falling back to standard exception\n"
     ]
    },
    {
     "name": "stderr",
     "output_type": "stream",
     "text": [
      "Traceback (most recent call last):\n",
      "  File \"/home/john/anaconda3/lib/python3.9/site-packages/IPython/core/interactiveshell.py\", line 3369, in run_code\n",
      "    exec(code_obj, self.user_global_ns, self.user_ns)\n",
      "  File \"/tmp/ipykernel_12505/1933557399.py\", line 6, in <cell line: 6>\n",
      "    import chainladder as cl\n",
      "  File \"/home/john/anaconda3/lib/python3.9/site-packages/chainladder/__init__.py\", line 37, in <module>\n",
      "    from chainladder.utils import *  # noqa (API Import)\n",
      "  File \"/home/john/anaconda3/lib/python3.9/site-packages/chainladder/utils/__init__.py\", line 4, in <module>\n",
      "    from chainladder.utils.weighted_regression import (\n",
      "  File \"/home/john/anaconda3/lib/python3.9/site-packages/chainladder/utils/weighted_regression.py\", line 5, in <module>\n",
      "    from chainladder.utils.sparse import sp\n",
      "  File \"/home/john/anaconda3/lib/python3.9/site-packages/chainladder/utils/sparse.py\", line 5, in <module>\n",
      "    import sparse\n",
      "  File \"/home/john/anaconda3/lib/python3.9/site-packages/sparse/__init__.py\", line 1, in <module>\n",
      "    from ._coo import COO, as_coo\n",
      "  File \"/home/john/anaconda3/lib/python3.9/site-packages/sparse/_coo/__init__.py\", line 1, in <module>\n",
      "    from .core import COO, as_coo\n",
      "  File \"/home/john/anaconda3/lib/python3.9/site-packages/sparse/_coo/core.py\", line 9, in <module>\n",
      "    import numba\n",
      "  File \"/home/john/anaconda3/lib/python3.9/site-packages/numba/__init__.py\", line 92, in <module>\n",
      "    from numba.np.ufunc import (vectorize, guvectorize, threading_layer,\n",
      "ImportError: cannot import name 'set_parallel_chunksize' from 'numba.np.ufunc' (/home/john/anaconda3/lib/python3.9/site-packages/numba/np/ufunc/__init__.py)\n",
      "\n",
      "During handling of the above exception, another exception occurred:\n",
      "\n",
      "Traceback (most recent call last):\n",
      "  File \"/home/john/anaconda3/lib/python3.9/site-packages/IPython/core/interactiveshell.py\", line 1982, in showtraceback\n",
      "    stb = self.InteractiveTB.structured_traceback(\n",
      "  File \"/home/john/anaconda3/lib/python3.9/site-packages/IPython/core/ultratb.py\", line 1118, in structured_traceback\n",
      "    return FormattedTB.structured_traceback(\n",
      "  File \"/home/john/anaconda3/lib/python3.9/site-packages/IPython/core/ultratb.py\", line 1012, in structured_traceback\n",
      "    return VerboseTB.structured_traceback(\n",
      "  File \"/home/john/anaconda3/lib/python3.9/site-packages/IPython/core/ultratb.py\", line 865, in structured_traceback\n",
      "    formatted_exception = self.format_exception_as_a_whole(etype, evalue, etb, number_of_lines_of_context,\n",
      "  File \"/home/john/anaconda3/lib/python3.9/site-packages/IPython/core/ultratb.py\", line 818, in format_exception_as_a_whole\n",
      "    frames.append(self.format_record(r))\n",
      "  File \"/home/john/anaconda3/lib/python3.9/site-packages/IPython/core/ultratb.py\", line 736, in format_record\n",
      "    result += ''.join(_format_traceback_lines(frame_info.lines, Colors, self.has_colors, lvals))\n",
      "  File \"/home/john/anaconda3/lib/python3.9/site-packages/stack_data/utils.py\", line 145, in cached_property_wrapper\n",
      "    value = obj.__dict__[self.func.__name__] = self.func(obj)\n",
      "  File \"/home/john/anaconda3/lib/python3.9/site-packages/stack_data/core.py\", line 698, in lines\n",
      "    pieces = self.included_pieces\n",
      "  File \"/home/john/anaconda3/lib/python3.9/site-packages/stack_data/utils.py\", line 145, in cached_property_wrapper\n",
      "    value = obj.__dict__[self.func.__name__] = self.func(obj)\n",
      "  File \"/home/john/anaconda3/lib/python3.9/site-packages/stack_data/core.py\", line 649, in included_pieces\n",
      "    pos = scope_pieces.index(self.executing_piece)\n",
      "  File \"/home/john/anaconda3/lib/python3.9/site-packages/stack_data/utils.py\", line 145, in cached_property_wrapper\n",
      "    value = obj.__dict__[self.func.__name__] = self.func(obj)\n",
      "  File \"/home/john/anaconda3/lib/python3.9/site-packages/stack_data/core.py\", line 628, in executing_piece\n",
      "    return only(\n",
      "  File \"/home/john/anaconda3/lib/python3.9/site-packages/executing/executing.py\", line 164, in only\n",
      "    raise NotOneValueFound('Expected one value, found 0')\n",
      "executing.executing.NotOneValueFound: Expected one value, found 0\n"
     ]
    }
   ],
   "source": [
    "import numpy as np\n",
    "import matplotlib.pyplot as plt\n",
    "import pandas as pd\n",
    "from IPython.display import display, HTML\n",
    "# !(pip install chainladder)\n",
    "import chainladder as cl\n",
    "\n",
    "print(\"pandas: \" + pd.__version__)\n",
    "print(\"numpy: \" + np.__version__)\n",
    "print(\"chainladder: \" + cl.__version__)"
   ]
  },
  {
   "cell_type": "code",
   "execution_count": null,
   "id": "9d027080",
   "metadata": {},
   "outputs": [],
   "source": [
    "data=pd.read_csv('wkcomp_pos.csv')"
   ]
  },
  {
   "cell_type": "code",
   "execution_count": null,
   "id": "796d38b4",
   "metadata": {},
   "outputs": [],
   "source": []
  }
 ],
 "metadata": {
  "kernelspec": {
   "display_name": "Python 3 (ipykernel)",
   "language": "python",
   "name": "python3"
  },
  "language_info": {
   "codemirror_mode": {
    "name": "ipython",
    "version": 3
   },
   "file_extension": ".py",
   "mimetype": "text/x-python",
   "name": "python",
   "nbconvert_exporter": "python",
   "pygments_lexer": "ipython3",
   "version": "3.9.12"
  }
 },
 "nbformat": 4,
 "nbformat_minor": 5
}
