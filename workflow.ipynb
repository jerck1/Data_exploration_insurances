{
 "cells": [
  {
   "cell_type": "markdown",
   "id": "85919cd6",
   "metadata": {},
   "source": [
    "# <center> Exploración de Datos de Pérdidas por Compensación a Trabajadores <center>\n",
    "    \n",
    "    Nombres:\n",
    "    Correo:\n",
    "Tenemos una serie de datos proporcionados por el docente, que pueden ser obtenidos desde https://rdrr.io/github/Ractuary/casdata/man/wkcomp.html. "
   ]
  },
  {
   "cell_type": "markdown",
   "id": "faf2aa67",
   "metadata": {},
   "source": [
    "## 2) <center> Entendimiento de los Datos <center>\n",
    "[data_understanding.ipynb]('./data_understanding.ipynb')"
   ]
  },
  {
   "cell_type": "markdown",
   "id": "1fc4cdae",
   "metadata": {},
   "source": [
    "## <center> 3) Preparación de los Datos <center>\n",
    "\n",
    "[data_preparation.ipynb]('./data_preparation.ipynb')"
   ]
  },
  {
   "cell_type": "code",
   "execution_count": null,
   "id": "36bcd2ab",
   "metadata": {},
   "outputs": [],
   "source": []
  }
 ],
 "metadata": {
  "kernelspec": {
   "display_name": "Python 3 (ipykernel)",
   "language": "python",
   "name": "python3"
  },
  "language_info": {
   "codemirror_mode": {
    "name": "ipython",
    "version": 3
   },
   "file_extension": ".py",
   "mimetype": "text/x-python",
   "name": "python",
   "nbconvert_exporter": "python",
   "pygments_lexer": "ipython3",
   "version": "3.9.12"
  }
 },
 "nbformat": 4,
 "nbformat_minor": 5
}
